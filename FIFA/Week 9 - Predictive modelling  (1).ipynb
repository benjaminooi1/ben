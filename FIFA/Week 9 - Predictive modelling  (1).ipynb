{
 "cells": [
  {
   "cell_type": "code",
   "execution_count": 1,
   "metadata": {},
   "outputs": [],
   "source": [
    "# Data manipulation\n",
    "import pandas as pd\n",
    "import numpy as np\n",
    "import pickle\n",
    "\n",
    "import warnings\n",
    "warnings.filterwarnings('ignore')\n",
    "\n",
    "from sklearn.exceptions import ConvergenceWarning\n",
    "warnings.filterwarnings('ignore')\n",
    "warnings.filterwarnings(action='ignore', category = DeprecationWarning)\n",
    "warnings.filterwarnings(action='ignore', category = ConvergenceWarning)\n",
    "\n",
    "# Data visualization\n",
    "import seaborn as sns\n",
    "import matplotlib.pyplot as plt\n",
    "\n",
    "# Display properties\n",
    "pd.set_option('display.max_columns', 150)\n",
    "pd.set_option('display.max_rows', 150)\n",
    "\n",
    "# Import required packages for pre and post processing\n",
    "from sklearn.preprocessing import normalize, StandardScaler\n",
    "\n",
    "from sklearn.linear_model import LinearRegression, LassoCV\n",
    "from sklearn.model_selection import train_test_split, RandomizedSearchCV\n",
    "from sklearn.model_selection import cross_val_score\n",
    "from sklearn.metrics import mean_squared_error as MSE\n",
    "\n",
    "from sklearn.ensemble import RandomForestRegressor\n",
    "import xgboost as xgb\n",
    "from sklearn.svm import SVR "
   ]
  },
  {
   "cell_type": "code",
   "execution_count": 2,
   "metadata": {},
   "outputs": [],
   "source": [
    "with open('processed_data.pkl', 'rb') as f:\n",
    "    fifa = pickle.load(f)"
   ]
  },
  {
   "cell_type": "code",
   "execution_count": 3,
   "metadata": {},
   "outputs": [],
   "source": [
    "with open('predictors_processed.pkl', 'rb') as f:\n",
    "    predictors_df = pickle.load(f)"
   ]
  },
  {
   "cell_type": "code",
   "execution_count": 4,
   "metadata": {},
   "outputs": [],
   "source": [
    "# Changing the categorical variables to dtype 'categorical'.\n",
    "predictors_df[['Preferred Foot','International Reputation','Weak Foot','Skill Moves','Real Face']]=predictors_df[['Preferred Foot',\n",
    "                                                                                                                  'International Reputation','Weak Foot','Skill Moves',\n",
    "                                                                                                                  'Real Face']].astype('category')"
   ]
  },
  {
   "cell_type": "code",
   "execution_count": 5,
   "metadata": {},
   "outputs": [],
   "source": [
    "predictors_df[list(predictors_df.loc[:,'Body Type':'Position_Group_Midfielder'])]=predictors_df[list(predictors_df.loc[:,'Body Type':'Position_Group_Midfielder'])].astype('category')"
   ]
  },
  {
   "cell_type": "code",
   "execution_count": 6,
   "metadata": {},
   "outputs": [],
   "source": [
    "# Target variable\n",
    "target_val = fifa.Value"
   ]
  },
  {
   "cell_type": "code",
   "execution_count": 8,
   "metadata": {},
   "outputs": [
    {
     "name": "stdout",
     "output_type": "stream",
     "text": [
      "Intercept: \n",
      " -29010030.781769447\n",
      "Coefficients: \n",
      " [-3.43588155e+05  2.64938031e+05  7.97176284e+04 -4.18433214e+04\n",
      " -3.15578089e+04  3.41878661e+06  7.19945080e+04  1.31171841e+05\n",
      "  1.02090306e+06 -1.02788203e+04  1.66459459e+02  3.51005421e+04\n",
      "  2.64904336e+05 -6.30538331e+03  1.41136677e+03 -1.56508803e+04\n",
      " -1.56508803e+04 -1.56508803e+04  1.76258256e+04  3.29623789e+04\n",
      "  3.29623789e+04  3.29623789e+04  1.76258256e+04 -3.85266782e+04\n",
      " -3.85266782e+04 -3.85266782e+04  2.82350707e+04 -4.28005793e+03\n",
      " -4.28005793e+03 -4.28005793e+03  2.82350707e+04 -1.10311476e+04\n",
      " -1.24564020e+04 -1.24564020e+04 -1.24564020e+04 -1.10311476e+04\n",
      " -1.77253459e+04 -3.10180076e+04 -3.10180076e+04 -3.10180076e+04\n",
      " -1.77253459e+04  2.51678715e+04  5.20037160e+04  4.22552604e+04\n",
      "  3.68647574e+04  3.68231818e+04  1.62762147e+04  2.82931509e+04\n",
      "  5.40115647e+04  4.57309869e+04  2.28865294e+04  3.55521827e+04\n",
      "  2.98752830e+04  2.79877109e+04  7.09115087e+04  3.83793475e+04\n",
      "  1.92185931e+04  3.19326484e+04  5.81887298e+04  4.27946930e+04\n",
      "  3.18555492e+04  4.15766126e+04  5.06602606e+04  3.98938636e+04\n",
      "  4.95033433e+04  2.47847638e+04 -7.52828335e+03  4.44926912e+04\n",
      "  6.18044475e+04  2.86724277e+04  1.65754629e+04  2.26961015e+04\n",
      "  3.13730839e+04  1.48943207e+04  5.65100191e+03  4.94452380e+06\n",
      "  6.49854171e+06  3.86229574e+04  3.34396893e+04  4.05412066e+04\n",
      "  3.67980427e+04  3.31484268e+04  4.49898555e+04  1.82379942e+04\n",
      " -1.85220402e+05  1.02259623e+04  1.17745371e+05  2.22995556e+05\n",
      " -5.81738659e+05 -3.00660676e+05 -3.87080103e+05 -2.15975006e+06\n",
      " -1.16591125e+05  4.98153702e+06  4.42116881e+05 -5.90727563e+05\n",
      " -2.16649139e+04  2.52306946e+05 -9.23604142e+04  6.33662854e+06\n",
      " -6.36424615e+05 -1.22721862e+06 -1.56529297e+06 -2.58829170e+05\n",
      " -4.30427533e+05 -6.21872993e+05 -2.68771304e+05  1.93025077e+05\n",
      " -1.35495849e+05  3.15778609e+06 -5.84962264e+05 -1.73091569e+06\n",
      " -1.76217753e+06  3.10610281e+04 -1.92149953e+06 -1.93181840e+05\n",
      "  3.90219525e+04 -2.34698448e+03 -3.10309950e+05  2.03305886e+05\n",
      "  2.63510936e+05 -2.03146559e+06 -8.72439764e+05  4.98153702e+06\n",
      " -2.07763166e+06]\n"
     ]
    }
   ],
   "source": [
    "# Multiple linear regression \n",
    "# with sklearn\n",
    "lre = LinearRegression()\n",
    "lre.fit(predictors_df, target_val)\n",
    "\n",
    "print('Intercept: \\n', lre.intercept_)\n",
    "print('Coefficients: \\n', lre.coef_)"
   ]
  },
  {
   "cell_type": "code",
   "execution_count": 9,
   "metadata": {},
   "outputs": [],
   "source": [
    "# Splitting our data into training and validation sets\n",
    "train_predictors_val, test_predictors_val, train_target_val, test_target_val = train_test_split(predictors_df,\n",
    "                                                                                                target_val,\n",
    "                                                                                                test_size=0.2)"
   ]
  },
  {
   "cell_type": "markdown",
   "metadata": {},
   "source": [
    "### Team 1: Soung, Alexia and Boris --> Try Lasso and XGB "
   ]
  },
  {
   "cell_type": "markdown",
   "metadata": {},
   "source": [
    "### Team 2: Harish and Ben --> Try Random forest and Support vector regressor"
   ]
  },
  {
   "cell_type": "markdown",
   "metadata": {},
   "source": [
    "### Let's try out some models without hyper-parameter tuning"
   ]
  },
  {
   "cell_type": "code",
   "execution_count": 10,
   "metadata": {},
   "outputs": [
    {
     "name": "stderr",
     "output_type": "stream",
     "text": [
      "C:\\ProgramData\\Anaconda3\\lib\\site-packages\\sklearn\\preprocessing\\data.py:645: DataConversionWarning: Data with input dtype int64, float64 were all converted to float64 by StandardScaler.\n",
      "  return self.partial_fit(X, y)\n",
      "C:\\ProgramData\\Anaconda3\\lib\\site-packages\\sklearn\\base.py:464: DataConversionWarning: Data with input dtype int64, float64 were all converted to float64 by StandardScaler.\n",
      "  return self.fit(X, **fit_params).transform(X)\n",
      "C:\\ProgramData\\Anaconda3\\lib\\site-packages\\sklearn\\preprocessing\\data.py:645: DataConversionWarning: Data with input dtype int64, float64 were all converted to float64 by StandardScaler.\n",
      "  return self.partial_fit(X, y)\n",
      "C:\\ProgramData\\Anaconda3\\lib\\site-packages\\sklearn\\base.py:464: DataConversionWarning: Data with input dtype int64, float64 were all converted to float64 by StandardScaler.\n",
      "  return self.fit(X, **fit_params).transform(X)\n"
     ]
    }
   ],
   "source": [
    "scaler = StandardScaler()\n",
    "train_predictors_val[train_predictors_val.select_dtypes(include=['float64','float32','int64','int32'], exclude=['category']).columns] = scaler.fit_transform(train_predictors_val.select_dtypes(include=['float64','float32','int64','int32'], exclude=['category']))\n",
    "\n",
    "test_predictors_val[test_predictors_val.select_dtypes(include=['float64','float32','int64','int32'], exclude=['category']).columns] = scaler.fit_transform(test_predictors_val.select_dtypes(include=['float64','float32','int64','int32'],exclude=['category']))"
   ]
  },
  {
   "cell_type": "code",
   "execution_count": 11,
   "metadata": {},
   "outputs": [],
   "source": [
    "train_predictors_val[train_predictors_val.select_dtypes(include='category').columns]=train_predictors_val[train_predictors_val.select_dtypes(include='category').columns].astype('int')\n",
    "test_predictors_val[test_predictors_val.select_dtypes(include='category').columns]=test_predictors_val[test_predictors_val.select_dtypes(include='category').columns].astype('int')"
   ]
  },
  {
   "cell_type": "markdown",
   "metadata": {},
   "source": [
    "Now that all numerical non-categorical data are scaled and categorical data are converted to integer (the models do not take dtype categorical as input) we proceed with fitting our baseline models."
   ]
  },
  {
   "cell_type": "code",
   "execution_count": 36,
   "metadata": {},
   "outputs": [
    {
     "name": "stderr",
     "output_type": "stream",
     "text": [
      "C:\\ProgramData\\Anaconda3\\lib\\site-packages\\sklearn\\ensemble\\forest.py:246: FutureWarning: The default value of n_estimators will change from 10 in version 0.20 to 100 in 0.22.\n",
      "  \"10 in version 0.20 to 100 in 0.22.\", FutureWarning)\n",
      "C:\\ProgramData\\Anaconda3\\lib\\site-packages\\sklearn\\model_selection\\_split.py:2053: FutureWarning: You should specify a value for 'cv' instead of relying on the default value. The default value will change from 3 to 5 in version 0.22.\n",
      "  warnings.warn(CV_WARNING, FutureWarning)\n",
      "C:\\ProgramData\\Anaconda3\\lib\\site-packages\\sklearn\\linear_model\\coordinate_descent.py:492: ConvergenceWarning: Objective did not converge. You might want to increase the number of iterations. Fitting data with very small alpha may cause precision problems.\n",
      "  ConvergenceWarning)\n",
      "C:\\ProgramData\\Anaconda3\\lib\\site-packages\\sklearn\\svm\\base.py:196: FutureWarning: The default value of gamma will change from 'auto' to 'scale' in version 0.22 to account better for unscaled features. Set gamma explicitly to 'auto' or 'scale' to avoid this warning.\n",
      "  \"avoid this warning.\", FutureWarning)\n"
     ]
    }
   ],
   "source": [
    "rfr=RandomForestRegressor()\n",
    "xbr=xgb.XGBRegressor()\n",
    "lasso=LassoCV()\n",
    "svr=SVR()\n",
    "\n",
    "models = [rfr,xbr,lasso,svr]\n",
    "\n",
    "for mod in models:\n",
    "    mod.fit(train_predictors_val, train_target_val)"
   ]
  },
  {
   "cell_type": "code",
   "execution_count": 38,
   "metadata": {},
   "outputs": [],
   "source": [
    "test_error = []\n",
    "\n",
    "# Sequentially fit all models and calculate test score\n",
    "for mod in models:\n",
    "    y_pred = mod.predict(test_predictors_val)\n",
    "    mse_mod = MSE(test_target_val, y_pred)\n",
    "    rmse_mod = round(mse_mod**(1/2))\n",
    "    test_error.append(rmse_mod)"
   ]
  },
  {
   "cell_type": "code",
   "execution_count": 41,
   "metadata": {},
   "outputs": [],
   "source": [
    "cv_error=[]\n",
    "\n",
    "for mod in models:\n",
    "    MSE_cv_error = -cross_val_score(mod, train_predictors_val,\n",
    "                                    train_target_val, scoring='neg_mean_squared_error', n_jobs=-1)\n",
    "    RMSE_cv = round((MSE_cv_error.mean())**(1/2))\n",
    "    cv_error.append(RMSE_cv)"
   ]
  },
  {
   "cell_type": "code",
   "execution_count": 39,
   "metadata": {},
   "outputs": [],
   "source": [
    "train_error=[]\n",
    "\n",
    "# Sequentially fit all models and calculate train score\n",
    "for mod in models:\n",
    "    y_pred = mod.predict(train_predictors_val)\n",
    "    mse_mod = MSE(train_target_val, y_pred)\n",
    "    rmse_mod = round(mse_mod**(1/2))\n",
    "    train_error.append(rmse_mod)"
   ]
  },
  {
   "cell_type": "code",
   "execution_count": 42,
   "metadata": {},
   "outputs": [
    {
     "data": {
      "image/png": "[encoded data removed]",
      "text/plain": [
       "<Figure size 864x432 with 1 Axes>"
      ]
     },
     "metadata": {
      "needs_background": "light"
     },
     "output_type": "display_data"
    }
   ],
   "source": [
    "model_names = ['rfr','xbr','lasso','svc']\n",
    "\n",
    "error = pd.DataFrame(dict(graph=model_names,test_error=test_error, cv_error=cv_error, train_error=train_error)) \n",
    "\n",
    "ind = np.arange(len(error))\n",
    "width = 0.2\n",
    "\n",
    "fig, ax = plt.subplots(figsize=(12,6))\n",
    "ax.barh(ind, error.test_error, width, color='maroon', label='test')\n",
    "ax.barh(ind + width, error.cv_error, width, color='forestgreen', label='cv')\n",
    "ax.barh(ind + 2*width, error.train_error, width, color='slategrey', label='train')\n",
    "ax.set_xlim(0, max(error.cv_error)+min(error.cv_error))\n",
    "plt.xlabel('RMSE', fontsize=16)\n",
    "plt.ylabel('Algorithms', fontsize=16)\n",
    "plt.title('Test, Cross Validation and Train Error per Algorithm',fontsize=20)\n",
    "\n",
    "ax.set(yticks=ind + width, yticklabels=error.graph, ylim=[2*width - 1, len(error)])\n",
    "ax.legend()\n",
    "\n",
    "plt.show()"
   ]
  },
  {
   "cell_type": "code",
   "execution_count": 7,
   "metadata": {},
   "outputs": [],
   "source": [
    "# Tuning the RF Classifier via RandomizedSearchCV\n",
    "\n",
    "optimize = False\n",
    "\n",
    "# Set optimize to True to tune the RF model\n",
    "if optimize:\n",
    "    \n",
    "\n",
    "    from datetime import datetime \n",
    "\n",
    "    start_time = datetime.now()\n",
    "\n",
    "    \n",
    "    # Number of trees in random forest\n",
    "    n_estimators = [int(x) for x in np.linspace(start = 200, stop = 10000, num = 30)]\n",
    "    n_estimators.append(60)\n",
    "    \n",
    "    # Number of features to consider at every split\n",
    "    max_features = ['auto', 'sqrt','log2']\n",
    "    \n",
    "    # Maximum number of levels in tree\n",
    "    max_depth = [int(x) for x in np.linspace(10, 110, num = 11)]\n",
    "    max_depth.append(None)\n",
    "    max_depth.append(8)\n",
    "    \n",
    "    # Minimum number of samples required to split a node\n",
    "    min_samples_split = [2, 5, 7,10,15,20,30,50,100,200,500]\n",
    "    \n",
    "    # Minimum number of samples required at each leaf node\n",
    "    min_samples_leaf = [1,2, 4,5,8,10,12,15,20]\n",
    "    \n",
    "    # Method of selecting samples for training each tree\n",
    "    bootstrap = [True, False]\n",
    "    \n",
    "    \n",
    "    # Create the parameter grid\n",
    "    rf_param_grid = {'n_estimators': n_estimators,\n",
    "               'max_features': max_features,\n",
    "               'max_depth': max_depth,\n",
    "               'min_samples_split': min_samples_split,\n",
    "               'min_samples_leaf': min_samples_leaf\n",
    "                    }\n",
    "\n",
    "\n",
    "\n",
    "    # Hyper-parameter tuning using RandomizedSearchCV \n",
    "    # GridSearchCV works in the same way \n",
    "    \n",
    "    rf_grid_search = RandomizedSearchCV( RandomForestRegressor(oob_score = True, bootstrap=True,\n",
    "                                        random_state = 42) , \n",
    "                                       param_distributions = rf_param_grid , n_iter = 5,\n",
    "                                      scoring = 'neg_mean_absolute_error' ,\n",
    "                                      refit = True , cv = 5 , random_state = 42)\n",
    "\n",
    "    rf_grid_search.fit(train_predictors_val , train_target_val)\n",
    "\n",
    "    time_elapsed = datetime.now() - start_time \n",
    "\n",
    "    print(f'Time elapsed (hh:mm:ss.ms) {time_elapsed}','\\n')\n",
    "    print('Optimal hyperparameters found using RandomizedGridSearch:','\\n \\n' , rf_grid_search.best_params_,'\\n')"
   ]
  },
  {
   "cell_type": "code",
   "execution_count": 51,
   "metadata": {},
   "outputs": [
    {
     "name": "stdout",
     "output_type": "stream",
     "text": [
      "Best alpha : 15\n",
      "\n",
      "Try again for more precision with alphas centered around 15\n",
      "\n",
      "Best alpha :20.25\n",
      "\n",
      "Lasso RMSE on Training set : 3189586.365680473\n",
      "Lasso R^2 score on Training set : 0.6667845668071084\n",
      "\n",
      "Lasso RMSE on test set : 3369934.83300849\n",
      "Lasso R^2 score on test set : 0.6729294063520709\n"
     ]
    },
    {
     "data": {
      "image/png": "[encoded data removed]",
      "text/plain": [
       "<Figure size 576x360 with 1 Axes>"
      ]
     },
     "metadata": {
      "needs_background": "light"
     },
     "output_type": "display_data"
    },
    {
     "data": {
      "image/png": "[encoded data removed]",
      "text/plain": [
       "<Figure size 576x360 with 1 Axes>"
      ]
     },
     "metadata": {
      "needs_background": "light"
     },
     "output_type": "display_data"
    },
    {
     "name": "stdout",
     "output_type": "stream",
     "text": [
      "Lasso picked 117 features and eliminated the other 8 features\n"
     ]
    },
    {
     "data": {
      "image/png": "[encoded data removed]",
      "text/plain": [
       "<Figure size 576x360 with 1 Axes>"
      ]
     },
     "metadata": {
      "needs_background": "light"
     },
     "output_type": "display_data"
    }
   ],
   "source": [
    "lasso = LassoCV(alphas = [1,5,15],\n",
    "                max_iter = 50000, cv = 3 , random_state = 42)\n",
    "\n",
    "\n",
    "lasso.fit(train_predictors_val , train_target_val)\n",
    "\n",
    "alpha = lasso.alpha_\n",
    "\n",
    "print(\"Best alpha :\", alpha)\n",
    "\n",
    "print(f\"\\nTry again for more precision with alphas centered around {alpha}\")\n",
    "\n",
    "lasso = LassoCV(alphas = [alpha * .6, alpha * .7, alpha * .8,  \n",
    "                            alpha * 1.3] , \n",
    "                max_iter = 50000, cv = 3 , random_state = 42)\n",
    "\n",
    "\n",
    "lasso.fit(train_predictors_val , train_target_val)\n",
    "\n",
    "# Lasso score is the R^2 coefficient (best score is 1 and score can also take negative values)\n",
    "\n",
    "alpha = lasso.alpha_\n",
    "\n",
    "y_train_pred_lasso = lasso.predict(train_predictors_val)\n",
    "y_test_pred_lasso = lasso.predict(test_predictors_val)\n",
    "\n",
    "rmse_train = (MSE(train_target_val, y_train_pred_lasso))**(0.5)\n",
    "rmse_test = (MSE(test_target_val, y_test_pred_lasso))**(0.5)\n",
    "\n",
    "\n",
    "\n",
    "print(f\"\\nBest alpha :{alpha}\")\n",
    "\n",
    "print(f'\\nLasso RMSE on Training set : {rmse_train}') \n",
    "print('Lasso R^2 score on Training set :',lasso.score(train_predictors_val ,train_target_val))\n",
    "\n",
    "print(\"\\nLasso RMSE on test set :\", rmse_test)\n",
    "print(\"Lasso R^2 score on test set :\", lasso.score(test_predictors_val ,test_target_val))\n",
    "\n",
    "\n",
    "\n",
    "\n",
    "# Plot residuals\n",
    "\n",
    "lasso_resid_train = train_target_val - y_train_pred_lasso\n",
    "lasso_resid_test = test_target_val - y_test_pred_lasso\n",
    "\n",
    "\n",
    "plt.figure(figsize=(8,5))\n",
    "plt.scatter(y_train_pred_lasso, lasso_resid_train, c = \"blue\", marker = \"s\", label = \"Training data\")\n",
    "plt.scatter(y_test_pred_lasso, lasso_resid_test, c = \"lightgreen\", marker = \"s\", label = \"Test data\")\n",
    "plt.title(\"Linear regression with Lasso regularization\" , fontsize = 15)\n",
    "plt.xlabel(\"Predicted values\" , fontsize = 15)\n",
    "plt.ylabel(\"Residuals\" , fontsize = 15)\n",
    "plt.legend(loc = \"upper left\")\n",
    "plt.hlines(y = 0, xmin = 10.5, xmax = 13.5, color = \"red\")\n",
    "plt.show()\n",
    "\n",
    "# Plot predictions\n",
    "\n",
    "plt.figure(figsize=(8,5))\n",
    "plt.scatter(y_train_pred_lasso, train_target_val, c = \"blue\", marker = \"s\", label = \"Training data\")\n",
    "plt.scatter(y_test_pred_lasso, test_target_val, c = \"lightgreen\", marker = \"s\", label = \"Test data\")\n",
    "plt.title(\"Linear regression with Lasso regularization\" , fontsize = 15)\n",
    "plt.xlabel(\"Predicted values\" , fontsize = 15)\n",
    "plt.ylabel(\"Observed values\" , fontsize = 15)\n",
    "plt.legend(loc = \"upper left\")\n",
    "plt.plot([10.5, 13.5], [10.5, 13.5], c = \"red\")\n",
    "plt.show()\n",
    "\n",
    "# Plot important coefficients\n",
    "\n",
    "coefs = pd.Series(lasso.coef_, index = train_predictors_val.columns)\n",
    "\n",
    "print(f\"Lasso picked {sum(coefs != 0)} features and eliminated the other {sum(coefs == 0)} features\")\n",
    "\n",
    "\n",
    "important_coefs = pd.concat([coefs.sort_values().head(10),\n",
    "                     coefs.sort_values().tail(10)])\n",
    "\n",
    "\n",
    "plt.figure(figsize=(8,5))\n",
    "important_coefs.plot(kind = \"barh\")\n",
    "plt.title(\"Most important coefficients in the Lasso Model\" , fontsize = 15)\n",
    "plt.show()"
   ]
  },
  {
   "cell_type": "code",
   "execution_count": null,
   "metadata": {},
   "outputs": [],
   "source": []
  },
  {
   "cell_type": "code",
   "execution_count": null,
   "metadata": {},
   "outputs": [],
   "source": []
  }
 ],
 "metadata": {
  "kernelspec": {
   "display_name": "Python 3",
   "language": "python",
   "name": "python3"
  },
  "language_info": {
   "codemirror_mode": {
    "name": "ipython",
    "version": 3
   },
   "file_extension": ".py",
   "mimetype": "text/x-python",
   "name": "python",
   "nbconvert_exporter": "python",
   "pygments_lexer": "ipython3",
   "version": "3.7.3"
  }
 },
 "nbformat": 4,
 "nbformat_minor": 2
}
